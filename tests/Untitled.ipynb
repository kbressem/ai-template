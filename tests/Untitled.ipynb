{
 "cells": [
  {
   "cell_type": "code",
   "execution_count": 2,
   "id": "7de04a1d-54de-42c4-ad30-6f9ca819bc7e",
   "metadata": {},
   "outputs": [],
   "source": [
    "from trainlib.trainer import SegmentationTrainer"
   ]
  },
  {
   "cell_type": "code",
   "execution_count": 3,
   "id": "0a6da530-6a45-4282-8360-5a285523cd20",
   "metadata": {},
   "outputs": [],
   "source": [
    "from trainlib.utils import load_config"
   ]
  },
  {
   "cell_type": "code",
   "execution_count": 4,
   "id": "26b88e58-4114-423a-b4e4-ec7756a7efb6",
   "metadata": {},
   "outputs": [],
   "source": [
    "config = load_config(\"test_config.yaml\")"
   ]
  },
  {
   "cell_type": "code",
   "execution_count": 5,
   "id": "e42e1556-46f5-4f2d-8de2-56c345bccfd8",
   "metadata": {},
   "outputs": [
    {
     "name": "stderr",
     "output_type": "stream",
     "text": [
      "Setuptools is replacing distutils.\n"
     ]
    },
    {
     "name": "stdout",
     "output_type": "stream",
     "text": [
      "2022-11-16 11:58:39,893 - No pushover credentials file submitted, will not try to push trainings progress to pushover device. If you want to receive status updated via pushover, provide the path to a yaml file, containing the `app_token`, `user_key` and `proxies` (optional) in the config at `pushover_credentials`\n"
     ]
    }
   ],
   "source": [
    "trainer = SegmentationTrainer(config)"
   ]
  },
  {
   "cell_type": "code",
   "execution_count": 6,
   "id": "662a0f69-b497-4862-9e4e-143cd72fa5cb",
   "metadata": {},
   "outputs": [
    {
     "data": {
      "application/vnd.jupyter.widget-view+json": {
       "model_id": "adecfa9c2bf3482d9fcbf579f62fe0f8",
       "version_major": 2,
       "version_minor": 0
      },
      "text/plain": [
       "VBox(children=(HBox(children=(VBox(children=(FloatRangeSlider(value=(0.0, 255.0), layout=Layout(min_width='200…"
      ]
     },
     "metadata": {},
     "output_type": "display_data"
    }
   ],
   "source": [
    "trainer.data_loader.show_batch()"
   ]
  },
  {
   "cell_type": "code",
   "execution_count": null,
   "id": "3e0307a5-e72e-4deb-bf2f-10e1bbcb8ddc",
   "metadata": {},
   "outputs": [],
   "source": []
  }
 ],
 "metadata": {
  "kernelspec": {
   "display_name": "Python 3 (ipykernel)",
   "language": "python",
   "name": "python3"
  },
  "language_info": {
   "codemirror_mode": {
    "name": "ipython",
    "version": 3
   },
   "file_extension": ".py",
   "mimetype": "text/x-python",
   "name": "python",
   "nbconvert_exporter": "python",
   "pygments_lexer": "ipython3",
   "version": "3.9.12"
  }
 },
 "nbformat": 4,
 "nbformat_minor": 5
}
