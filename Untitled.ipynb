{
 "cells": [
  {
   "cell_type": "code",
   "execution_count": 1,
   "id": "fc634786-6e6c-472c-86f9-4a7b817347ad",
   "metadata": {},
   "outputs": [],
   "source": [
    "import ignite"
   ]
  },
  {
   "cell_type": "code",
   "execution_count": 2,
   "id": "0b117af3-346f-4da0-a39c-a035a48e2515",
   "metadata": {},
   "outputs": [],
   "source": [
    "def mock_one_epoch(engine, batch):\n",
    "    \"Mock of one training iteration. Returns 1 as loss\"\n",
    "    return 1"
   ]
  },
  {
   "cell_type": "code",
   "execution_count": 4,
   "id": "c5846afc-d49d-409c-bede-494541e4fd80",
   "metadata": {},
   "outputs": [],
   "source": [
    "mock_engine = ignite.engine.Engine(mock_one_epoch)"
   ]
  },
  {
   "cell_type": "code",
   "execution_count": 7,
   "id": "414320ac-146d-44ff-bf01-4d5554c7cf9d",
   "metadata": {},
   "outputs": [
    {
     "data": {
      "text/plain": [
       "\u001b[0;31mType:\u001b[0m        defaultdict\n",
       "\u001b[0;31mString form:\u001b[0m defaultdict(<class 'list'>, {})\n",
       "\u001b[0;31mLength:\u001b[0m      0\n",
       "\u001b[0;31mFile:\u001b[0m        /usr/local/anaconda3/envs/monai/lib/python3.8/collections/__init__.py\n",
       "\u001b[0;31mDocstring:\u001b[0m  \n",
       "defaultdict(default_factory[, ...]) --> dict with default factory\n",
       "\n",
       "The default factory is called without arguments to produce\n",
       "a new value when a key is not present, in __getitem__ only.\n",
       "A defaultdict compares equal to a dict with the same items.\n",
       "All remaining arguments are treated the same as if they were\n",
       "passed to the dict constructor, including keyword arguments.\n"
      ]
     },
     "metadata": {},
     "output_type": "display_data"
    }
   ],
   "source": [
    "??mock_engine._event_handlers"
   ]
  },
  {
   "cell_type": "code",
   "execution_count": 21,
   "id": "4074d3a0-e14b-4df3-a117-1b618feaf05f",
   "metadata": {},
   "outputs": [],
   "source": [
    "from pathlib import Path\n",
    "import torch"
   ]
  },
  {
   "cell_type": "code",
   "execution_count": 23,
   "id": "72d27463-a4d4-4611-9dd5-3028bccd8688",
   "metadata": {},
   "outputs": [],
   "source": [
    "text = \"There are more unique values in the labels than there are `out_channels`. Found 3 but expected 2 or less', 'ERROR:trainlib.handlers:The maximum value of labels is higher than `out_channels`This will lead to issues with one-hot conversion.Found max value of 4.0 but expected 2\""
   ]
  },
  {
   "cell_type": "code",
   "execution_count": 24,
   "id": "62e2c005-6aba-4a9e-ac3d-44ff6adfa3bb",
   "metadata": {},
   "outputs": [
    {
     "data": {
      "text/plain": [
       "\"There are more unique values in the labels than there are `out_channels`. Found 3 but expected 2 or less', 'ERROR:trainlib.handlers:The maximum value of labels is higher than `out_channels`This will lead to issues with one-hot conversion.Found max value of 4.0 but expected 2\""
      ]
     },
     "execution_count": 24,
     "metadata": {},
     "output_type": "execute_result"
    }
   ],
   "source": [
    "text"
   ]
  },
  {
   "cell_type": "code",
   "execution_count": 25,
   "id": "6124ac9c-f426-4f27-841c-1569dd94ff97",
   "metadata": {},
   "outputs": [
    {
     "data": {
      "text/plain": [
       "True"
      ]
     },
     "execution_count": 25,
     "metadata": {},
     "output_type": "execute_result"
    }
   ],
   "source": [
    "\"Found max value of 4.0 but expected 2\" in text"
   ]
  },
  {
   "cell_type": "code",
   "execution_count": null,
   "id": "6da6af3e-b72a-4cec-9a09-f535de496cd9",
   "metadata": {},
   "outputs": [],
   "source": []
  }
 ],
 "metadata": {
  "kernelspec": {
   "display_name": "Python 3 (ipykernel)",
   "language": "python",
   "name": "python3"
  },
  "language_info": {
   "codemirror_mode": {
    "name": "ipython",
    "version": 3
   },
   "file_extension": ".py",
   "mimetype": "text/x-python",
   "name": "python",
   "nbconvert_exporter": "python",
   "pygments_lexer": "ipython3",
   "version": "3.8.13"
  }
 },
 "nbformat": 4,
 "nbformat_minor": 5
}
