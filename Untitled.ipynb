{
 "cells": [
  {
   "cell_type": "code",
   "execution_count": 7,
   "id": "b0ea098c-f5da-4d92-8a35-de36e5c641fe",
   "metadata": {},
   "outputs": [],
   "source": [
    "import munch\n",
    "import matplotlib\n",
    "import ipywidgets"
   ]
  },
  {
   "cell_type": "code",
   "execution_count": 9,
   "id": "2fd08004-24fb-423b-82b0-82af2642285b",
   "metadata": {},
   "outputs": [
    {
     "data": {
      "text/plain": [
       "'2.5.0'"
      ]
     },
     "execution_count": 9,
     "metadata": {},
     "output_type": "execute_result"
    }
   ],
   "source": [
    "munch.__version__"
   ]
  },
  {
   "cell_type": "code",
   "execution_count": 8,
   "id": "eac153e8-c9b3-4d13-a0a4-5772d6150eae",
   "metadata": {},
   "outputs": [
    {
     "data": {
      "text/plain": [
       "'8.0.2'"
      ]
     },
     "execution_count": 8,
     "metadata": {},
     "output_type": "execute_result"
    }
   ],
   "source": [
    "ipywidgets.__version__"
   ]
  },
  {
   "cell_type": "code",
   "execution_count": 10,
   "id": "520173a0-a7a1-4bcb-80ec-559588996b5f",
   "metadata": {},
   "outputs": [
    {
     "data": {
      "text/plain": [
       "'3.6.2'"
      ]
     },
     "execution_count": 10,
     "metadata": {},
     "output_type": "execute_result"
    }
   ],
   "source": [
    "matplotlib.__version__"
   ]
  },
  {
   "cell_type": "code",
   "execution_count": 12,
   "id": "8c89ec5a-e7e1-4105-9358-6839941c801d",
   "metadata": {},
   "outputs": [
    {
     "data": {
      "text/plain": [
       "'6.0'"
      ]
     },
     "execution_count": 12,
     "metadata": {},
     "output_type": "execute_result"
    }
   ],
   "source": [
    "import yaml\n",
    "yaml.__version__"
   ]
  },
  {
   "cell_type": "code",
   "execution_count": null,
   "id": "7e21709d-6c60-4c68-a1d3-b43c9695c317",
   "metadata": {},
   "outputs": [],
   "source": []
  }
 ],
 "metadata": {
  "kernelspec": {
   "display_name": "Python 3 (ipykernel)",
   "language": "python",
   "name": "python3"
  },
  "language_info": {
   "codemirror_mode": {
    "name": "ipython",
    "version": 3
   },
   "file_extension": ".py",
   "mimetype": "text/x-python",
   "name": "python",
   "nbconvert_exporter": "python",
   "pygments_lexer": "ipython3",
   "version": "3.9.15"
  }
 },
 "nbformat": 4,
 "nbformat_minor": 5
}
