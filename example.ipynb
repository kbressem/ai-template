{
 "cells": [
  {
   "cell_type": "markdown",
   "id": "6b3ce2ab-8216-4136-8e9f-34ea25653994",
   "metadata": {},
   "source": [
    "# Quick baseline"
   ]
  },
  {
   "cell_type": "code",
   "execution_count": 1,
   "id": "037775e1-d4f1-4b87-8678-26f9d33d45b5",
   "metadata": {},
   "outputs": [],
   "source": [
    "import os\n",
    "import sys\n",
    "import torch\n",
    "import monai\n",
    "import ignite\n",
    "import logging\n",
    "\n",
    "from quick.utils import load_config\n",
    "from quick.train import SegmentationTrainer\n",
    "from quick.data import segmentation_dataloaders"
   ]
  },
  {
   "cell_type": "code",
   "execution_count": 2,
   "id": "7c6a0fc4-ccfa-4936-94e9-dbfeca3fb978",
   "metadata": {},
   "outputs": [],
   "source": [
    "config = load_config()\n",
    "monai.utils.set_determinism(seed=config.seed)"
   ]
  },
  {
   "cell_type": "code",
   "execution_count": 3,
   "id": "071bf249-76f9-4888-a878-926d032413be",
   "metadata": {},
   "outputs": [],
   "source": [
    "trainer=SegmentationTrainer(\n",
    "    progress_bar=True, \n",
    "    early_stopping = True, \n",
    "    metrics = [\"MeanDice\", \"HausdorffDistance\", \"SurfaceDistance\"],\n",
    "    save_latest_metrics = True,\n",
    "    config=config\n",
    ")"
   ]
  },
  {
   "cell_type": "raw",
   "id": "6854a27d-19a1-4542-8c67-910689dfc6f5",
   "metadata": {},
   "source": [
    "%load_ext tensorboard\n",
    "%tensorboard --logdir=$config.log_dir"
   ]
  },
  {
   "cell_type": "raw",
   "id": "21050e77-242e-455a-aa47-1a843be52e84",
   "metadata": {},
   "source": [
    "## TODO\n",
    "# Add Plots for losses and metrics to output and logging.\n",
    "# Add val loss to TensorBoard\n",
    "import matplotlib.pyplot as plt\n",
    "\n",
    "plt.plot(metrics['iteration'], metrics['eval_loss'])\n",
    "plt.plot(loss['iteration'], loss['loss'])\n",
    "plt.show()\n",
    "\n",
    "plt.plot(metrics['iteration'], metrics['MeanDice'])\n",
    "plt.show()"
   ]
  },
  {
   "cell_type": "code",
   "execution_count": 4,
   "id": "c3345382-dc23-49e2-88ae-33658265baec",
   "metadata": {},
   "outputs": [
    {
     "name": "stdout",
     "output_type": "stream",
     "text": [
      "resuming from previous checkpoint at models/network_test_key_metric=0.0354.pt\n"
     ]
    },
    {
     "data": {
      "application/vnd.jupyter.widget-view+json": {
       "model_id": "",
       "version_major": 2,
       "version_minor": 0
      },
      "text/plain": [
       "[1/25]   4%|4          [00:00<?]"
      ]
     },
     "metadata": {},
     "output_type": "display_data"
    },
    {
     "data": {
      "application/vnd.jupyter.widget-view+json": {
       "model_id": "",
       "version_major": 2,
       "version_minor": 0
      },
      "text/plain": [
       "[1/5]  20%|##         [00:00<?]"
      ]
     },
     "metadata": {},
     "output_type": "display_data"
    },
    {
     "data": {
      "application/vnd.jupyter.widget-view+json": {
       "model_id": "",
       "version_major": 2,
       "version_minor": 0
      },
      "text/plain": [
       "[1/25]   4%|4          [00:00<?]"
      ]
     },
     "metadata": {},
     "output_type": "display_data"
    },
    {
     "data": {
      "application/vnd.jupyter.widget-view+json": {
       "model_id": "",
       "version_major": 2,
       "version_minor": 0
      },
      "text/plain": [
       "[1/5]  20%|##         [00:00<?]"
      ]
     },
     "metadata": {},
     "output_type": "display_data"
    },
    {
     "data": {
      "application/vnd.jupyter.widget-view+json": {
       "model_id": "",
       "version_major": 2,
       "version_minor": 0
      },
      "text/plain": [
       "[1/25]   4%|4          [00:00<?]"
      ]
     },
     "metadata": {},
     "output_type": "display_data"
    },
    {
     "data": {
      "application/vnd.jupyter.widget-view+json": {
       "model_id": "",
       "version_major": 2,
       "version_minor": 0
      },
      "text/plain": [
       "[1/5]  20%|##         [00:00<?]"
      ]
     },
     "metadata": {},
     "output_type": "display_data"
    },
    {
     "data": {
      "application/vnd.jupyter.widget-view+json": {
       "model_id": "",
       "version_major": 2,
       "version_minor": 0
      },
      "text/plain": [
       "[1/25]   4%|4          [00:00<?]"
      ]
     },
     "metadata": {},
     "output_type": "display_data"
    },
    {
     "data": {
      "application/vnd.jupyter.widget-view+json": {
       "model_id": "",
       "version_major": 2,
       "version_minor": 0
      },
      "text/plain": [
       "[1/5]  20%|##         [00:00<?]"
      ]
     },
     "metadata": {},
     "output_type": "display_data"
    },
    {
     "data": {
      "application/vnd.jupyter.widget-view+json": {
       "model_id": "",
       "version_major": 2,
       "version_minor": 0
      },
      "text/plain": [
       "[1/25]   4%|4          [00:00<?]"
      ]
     },
     "metadata": {},
     "output_type": "display_data"
    },
    {
     "data": {
      "application/vnd.jupyter.widget-view+json": {
       "model_id": "",
       "version_major": 2,
       "version_minor": 0
      },
      "text/plain": [
       "[1/5]  20%|##         [00:00<?]"
      ]
     },
     "metadata": {},
     "output_type": "display_data"
    }
   ],
   "source": [
    "trainer.run()"
   ]
  },
  {
   "cell_type": "code",
   "execution_count": 5,
   "id": "bd7028ef-24b6-4d56-9d3f-a8954e1806a0",
   "metadata": {},
   "outputs": [],
   "source": [
    "test_dl = segmentation_dataloaders(train=False, valid=False, test=True)"
   ]
  },
  {
   "cell_type": "code",
   "execution_count": null,
   "id": "cdfa869a-ea46-4592-a29d-e331a3c359cf",
   "metadata": {},
   "outputs": [],
   "source": [
    "trainer.evaluate(\n",
    "    checkpoint='models/network_anatomy_2_key_metric=0.8173.pt',\n",
    "    dataloader=test_dl\n",
    ")"
   ]
  },
  {
   "cell_type": "code",
   "execution_count": null,
   "id": "e071fc6e-29d9-4364-96aa-c4f21ef6d3d8",
   "metadata": {},
   "outputs": [],
   "source": [
    "outputs = {k : [o[0][k].detach().cpu().squeeze() for o in trainer.evaluator.state.output] for k in ['image', 'label', 'pred']}"
   ]
  },
  {
   "cell_type": "code",
   "execution_count": null,
   "id": "72612bb0-d44c-4c79-b044-a84515602c0d",
   "metadata": {},
   "outputs": [],
   "source": [
    "from quick.viewer import ListViewer"
   ]
  },
  {
   "cell_type": "code",
   "execution_count": null,
   "id": "ebf33d40-d37b-43e7-a8d5-6030a7bff0a9",
   "metadata": {},
   "outputs": [],
   "source": [
    "ListViewer(\n",
    "    [o.transpose(0,2).flip(-2) for o in outputs['image'][0:3]] + \n",
    "    [o.argmax(0).transpose(0,2).flip(-2).float() for o in outputs['label'][0:3]] + \n",
    "    [o.argmax(0).transpose(0,2).flip(-2).float() for o in outputs['pred'][0:3]] \n",
    ").show()"
   ]
  }
 ],
 "metadata": {
  "kernelspec": {
   "display_name": "Python 3 (ipykernel)",
   "language": "python",
   "name": "python3"
  },
  "language_info": {
   "codemirror_mode": {
    "name": "ipython",
    "version": 3
   },
   "file_extension": ".py",
   "mimetype": "text/x-python",
   "name": "python",
   "nbconvert_exporter": "python",
   "pygments_lexer": "ipython3",
   "version": "3.9.7"
  }
 },
 "nbformat": 4,
 "nbformat_minor": 5
}
